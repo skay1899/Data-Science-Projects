{
 "cells": [
  {
   "cell_type": "code",
   "execution_count": 1,
   "metadata": {},
   "outputs": [],
   "source": [
    "# Pandas and numpy for data manipulation\n",
    "import pandas as pd\n",
    "import numpy as np\n",
    "\n",
    "# No warnings about setting value on copy of slice\n",
    "pd.options.mode.chained_assignment = None\n",
    "\n",
    "# Display up to 60 columns of a dataframe\n",
    "pd.set_option('display.max_columns', 60)\n",
    "\n",
    "# Matplotlib visualization\n",
    "import matplotlib.pyplot as plt\n",
    "%matplotlib inline\n",
    "\n",
    "# Set default font size\n",
    "plt.rcParams['font.size'] = 24\n",
    "\n",
    "# Internal ipython tool for setting figure size\n",
    "from IPython.core.pylabtools import figsize\n",
    "\n",
    "# Seaborn for visualization\n",
    "import seaborn as sns\n",
    "sns.set(font_scale = 2)\n",
    "\n",
    "# Splitting data into training and testing\n",
    "from sklearn.model_selection import train_test_split\n",
    "plt.style.use('classic')\n",
    "from sklearn.preprocessing import Imputer, MinMaxScaler\n",
    "\n",
    "from sklearn.linear_model import LinearRegression\n",
    "from sklearn.ensemble import RandomForestRegressor, GradientBoostingRegressor\n",
    "from sklearn.svm import SVR\n",
    "from sklearn.neighbors import KNeighborsRegressor\n",
    "\n",
    "# Hyperparameter tuning\n",
    "from sklearn.model_selection import RandomizedSearchCV, GridSearchCV"
   ]
  },
  {
   "cell_type": "code",
   "execution_count": 2,
   "metadata": {},
   "outputs": [
    {
     "name": "stdout",
     "output_type": "stream",
     "text": [
      "<class 'pandas.core.frame.DataFrame'>\n",
      "RangeIndex: 178 entries, 0 to 177\n",
      "Data columns (total 14 columns):\n",
      "Class                           178 non-null int64\n",
      "Alcohol                         178 non-null float64\n",
      "Malic acid                      178 non-null float64\n",
      "Ash                             178 non-null float64\n",
      "Alcalinity of ash               178 non-null float64\n",
      "Magnesium                       178 non-null int64\n",
      "Total phenols                   178 non-null float64\n",
      "Flavanoids                      178 non-null float64\n",
      "Nonflavanoid phenols            178 non-null float64\n",
      "Proanthocyanins                 178 non-null float64\n",
      "Color intensity                 178 non-null float64\n",
      "Hue                             178 non-null float64\n",
      "OD280/OD315 of diluted wines    178 non-null float64\n",
      "Proline                         178 non-null int64\n",
      "dtypes: float64(11), int64(3)\n",
      "memory usage: 19.5 KB\n"
     ]
    }
   ],
   "source": [
    "# Read in data into a dataframe \n",
    "data = pd.read_csv('C:/Users/SD480587/python learnings/wine.data')\n",
    "\n",
    "# Display top of dataframe\n",
    "data.info()"
   ]
  },
  {
   "cell_type": "code",
   "execution_count": 3,
   "metadata": {},
   "outputs": [
    {
     "data": {
      "image/png": "[encoded data removed]",
      "text/plain": [
       "<Figure size 640x480 with 1 Axes>"
      ]
     },
     "metadata": {},
     "output_type": "display_data"
    }
   ],
   "source": [
    "plt.style.use('classic')\n",
    "#plt.scatter(data.Class,data.Alcohol,marker = 'o',label = 'Alcohol',color = 'red')\n",
    "#plt.scatter(data.Class,data['Malic acid'],marker = 'x',label = 'Malic acid',color = 'blue')\n",
    "#plt.scatter(data.Class,data.Ash,marker = 'o',label = 'Ash',color = 'red')\n",
    "#plt.scatter(data.Class,data['Alcalinity of ash'],marker = 'x',label = 'Alcalinity of ash',color = 'blue')\n",
    "#plt.scatter(data.Class,data.Magnesium,marker = 'o',label = 'Magnesium',color = 'red')\n",
    "#plt.scatter(data.Class,data['Total phenols'],marker = 'x',label = 'Total phenols',color = 'blue')\n",
    "#plt.scatter(data.Class,data.Flavanoids,marker = 'o',label = 'Flavanoids',color = 'red')\n",
    "#plt.scatter(data.Class,data['Nonflavanoid phenols'],marker = 'x',label = 'Nonflavanoid phenols',color = 'blue')\n",
    "#plt.scatter(data.Class,data.Proanthocyanins,marker = 'o',label = 'Proanthocyanins',color = 'red')\n",
    "#plt.scatter(data.Class,data['Color intensity'],marker = 'x',label = 'Color intensity',color = 'blue')\n",
    "#plt.scatter(data.Class,data.Hue,marker = 'o',label = 'Hue',color = 'red')\n",
    "#plt.scatter(data.Class,data['OD280/OD315 of diluted wines'],marker = 'x',label = 'OD280/OD315 of diluted wines',color = 'blue')\n",
    "plt.scatter(data.Class,data.Proline,marker = 'o',label = 'Proline',color = 'red')\n",
    "plt.xlabel('Class'); plt.ylabel('Alcohol')\n",
    "plt.legend();"
   ]
  },
  {
   "cell_type": "code",
   "execution_count": 4,
   "metadata": {},
   "outputs": [],
   "source": [
    "features = data.drop(columns = 'Class')\n",
    "targets = pd.DataFrame(data['Class'])"
   ]
  },
  {
   "cell_type": "code",
   "execution_count": 5,
   "metadata": {},
   "outputs": [],
   "source": [
    "X, X_test, y, y_test = train_test_split(features, targets, test_size = 0.3, random_state = 42)"
   ]
  },
  {
   "cell_type": "code",
   "execution_count": 6,
   "metadata": {},
   "outputs": [],
   "source": [
    "scaler = MinMaxScaler(feature_range=(0, 1))"
   ]
  },
  {
   "cell_type": "code",
   "execution_count": 7,
   "metadata": {},
   "outputs": [
    {
     "data": {
      "text/plain": [
       "MinMaxScaler(copy=True, feature_range=(0, 1))"
      ]
     },
     "execution_count": 7,
     "metadata": {},
     "output_type": "execute_result"
    }
   ],
   "source": [
    "scaler.fit(X)"
   ]
  },
  {
   "cell_type": "code",
   "execution_count": 8,
   "metadata": {},
   "outputs": [],
   "source": [
    "X = scaler.transform(X)"
   ]
  },
  {
   "cell_type": "code",
   "execution_count": 9,
   "metadata": {},
   "outputs": [],
   "source": [
    "X_test = scaler.transform(X_test)"
   ]
  },
  {
   "cell_type": "code",
   "execution_count": 10,
   "metadata": {},
   "outputs": [],
   "source": [
    "\n",
    "# Convert y to one-dimensional array (vector)\n",
    "y = np.array(y).reshape((-1, ))\n",
    "y_test = np.array(y_test).reshape((-1, ))"
   ]
  },
  {
   "cell_type": "code",
   "execution_count": 11,
   "metadata": {},
   "outputs": [],
   "source": [
    "def mae(y_true, y_pred):\n",
    "    return np.mean(abs(y_true - y_pred))"
   ]
  },
  {
   "cell_type": "code",
   "execution_count": 12,
   "metadata": {},
   "outputs": [
    {
     "name": "stdout",
     "output_type": "stream",
     "text": [
      "The baseline guess is a score of 2.00\n",
      "Baseline Performance on the test set: MAE = 0.6111\n"
     ]
    }
   ],
   "source": [
    "baseline_guess = np.median(y)\n",
    "\n",
    "print('The baseline guess is a score of %0.2f' % baseline_guess)\n",
    "print(\"Baseline Performance on the test set: MAE = %0.4f\" % mae(y_test, baseline_guess))"
   ]
  },
  {
   "cell_type": "code",
   "execution_count": 13,
   "metadata": {},
   "outputs": [],
   "source": [
    "def fit_and_evaluate(model):\n",
    "    \n",
    "    # Train the model\n",
    "    model.fit(X, y)\n",
    "    \n",
    "    # Make predictions and evalute\n",
    "    model_pred = model.predict(X_test)\n",
    "    model_mae = mae(y_test, model_pred)\n",
    "    \n",
    "    # Return the performance metric\n",
    "    return model_mae"
   ]
  },
  {
   "cell_type": "code",
   "execution_count": 14,
   "metadata": {},
   "outputs": [
    {
     "name": "stdout",
     "output_type": "stream",
     "text": [
      "Linear Regression Performance on the test set: MAE = 0.1911\n"
     ]
    }
   ],
   "source": [
    "lr = LinearRegression()\n",
    "lr_mae = fit_and_evaluate(lr)\n",
    "print('Linear Regression Performance on the test set: MAE = %0.4f' % lr_mae)"
   ]
  },
  {
   "cell_type": "code",
   "execution_count": 15,
   "metadata": {},
   "outputs": [
    {
     "name": "stdout",
     "output_type": "stream",
     "text": [
      "Support Vector Machine Regression Performance on the test set: MAE = 0.1675\n"
     ]
    }
   ],
   "source": [
    "svm = SVR(C = 1000, gamma = 0.1)\n",
    "svm_mae = fit_and_evaluate(svm)\n",
    "\n",
    "print('Support Vector Machine Regression Performance on the test set: MAE = %0.4f' % svm_mae)"
   ]
  },
  {
   "cell_type": "code",
   "execution_count": 16,
   "metadata": {},
   "outputs": [
    {
     "name": "stdout",
     "output_type": "stream",
     "text": [
      "Random Forest Regression Performance on the test set: MAE = 0.1204\n"
     ]
    }
   ],
   "source": [
    "random_forest = RandomForestRegressor(random_state=60)\n",
    "random_forest_mae = fit_and_evaluate(random_forest)\n",
    "\n",
    "print('Random Forest Regression Performance on the test set: MAE = %0.4f' % random_forest_mae)"
   ]
  },
  {
   "cell_type": "code",
   "execution_count": 17,
   "metadata": {},
   "outputs": [
    {
     "name": "stdout",
     "output_type": "stream",
     "text": [
      "Gradient Boosted Regression Performance on the test set: MAE = 0.1425\n"
     ]
    }
   ],
   "source": [
    "gradient_boosted = GradientBoostingRegressor(random_state=60)\n",
    "gradient_boosted_mae = fit_and_evaluate(gradient_boosted)\n",
    "\n",
    "print('Gradient Boosted Regression Performance on the test set: MAE = %0.4f' % gradient_boosted_mae)"
   ]
  },
  {
   "cell_type": "code",
   "execution_count": 18,
   "metadata": {},
   "outputs": [
    {
     "name": "stdout",
     "output_type": "stream",
     "text": [
      "K-Nearest Neighbors Regression Performance on the test set: MAE = 0.0667\n"
     ]
    }
   ],
   "source": [
    "knn = KNeighborsRegressor(n_neighbors=10)\n",
    "knn_mae = fit_and_evaluate(knn)\n",
    "\n",
    "print('K-Nearest Neighbors Regression Performance on the test set: MAE = %0.4f' % knn_mae)"
   ]
  },
  {
   "cell_type": "code",
   "execution_count": 19,
   "metadata": {},
   "outputs": [
    {
     "data": {
      "image/png": "[encoded data removed]",
      "text/plain": [
       "<Figure size 640x480 with 1 Axes>"
      ]
     },
     "metadata": {},
     "output_type": "display_data"
    }
   ],
   "source": [
    "\n",
    "plt.style.use('fivethirtyeight')\n",
    "figsize(8, 6)\n",
    "\n",
    "# Dataframe to hold the results\n",
    "model_comparison = pd.DataFrame({'model': ['Linear Regression', 'Support Vector Machine',\n",
    "                                           'Random Forest', 'Gradient Boosted',\n",
    "                                            'K-Nearest Neighbors'],\n",
    "                                 'mae': [lr_mae, svm_mae, random_forest_mae, \n",
    "                                         gradient_boosted_mae, knn_mae]})\n",
    "\n",
    "# Horizontal bar chart of test mae\n",
    "model_comparison.sort_values('mae', ascending = False).plot(x = 'model', y = 'mae', kind = 'barh',\n",
    "                                                           color = 'red', edgecolor = 'black')\n",
    "\n",
    "# Plot formatting\n",
    "plt.ylabel(''); plt.yticks(size = 14); plt.xlabel('Mean Absolute Error'); plt.xticks(size = 14)\n",
    "plt.title('Model Comparison on Test MAE', size = 20);"
   ]
  },
  {
   "cell_type": "code",
   "execution_count": 20,
   "metadata": {},
   "outputs": [],
   "source": [
    "# Loss function to be optimized\n",
    "n_neighbors = [2, 5, 8, 11, 14]\n",
    "\n",
    "weights = ['uniform', 'distance']\n",
    "\n",
    "algorithm  = ['ball_tree', 'kd_tree', 'brute']\n",
    "\n",
    "leaf_size = [10,20,30,40,50,60]\n",
    "\n",
    "p = [1,2]\n",
    "\n",
    "# Number of trees used in the boosting process\n",
    "n_estimators = [100, 500, 900, 1100, 1500]\n",
    "\n",
    "# Maximum depth of each tree\n",
    "max_depth = [2, 3, 5, 10, 15]\n",
    "\n",
    "# Minimum number of samples per leaf\n",
    "min_samples_leaf = [1, 2, 4, 6, 8]\n",
    "\n",
    "# Minimum number of samples to split a node\n",
    "min_samples_split = [2, 4, 6, 10]\n",
    "\n",
    "# Maximum number of features to consider for making splits\n",
    "max_features = ['auto', 'sqrt', 'log2', None]\n",
    "\n",
    "# Define the grid of hyperparameters to search\n",
    "hyperparameter_grid = {'n_neighbors': n_neighbors,\n",
    "                       'weights': weights,\n",
    "                       'algorithm': algorithm,\n",
    "                       'leaf_size': leaf_size,\n",
    "                       'p': p}"
   ]
  },
  {
   "cell_type": "code",
   "execution_count": 21,
   "metadata": {},
   "outputs": [],
   "source": [
    "# Create the model to use for hyperparameter tuning\n",
    "model = KNeighborsRegressor()"
   ]
  },
  {
   "cell_type": "code",
   "execution_count": 22,
   "metadata": {},
   "outputs": [],
   "source": [
    "random_cv = RandomizedSearchCV(estimator=model,\n",
    "                               param_distributions=hyperparameter_grid,\n",
    "                               cv=4, n_iter=25, \n",
    "                               scoring = 'neg_mean_absolute_error',\n",
    "                               n_jobs = -1, verbose = 1, \n",
    "                               return_train_score = True)"
   ]
  },
  {
   "cell_type": "code",
   "execution_count": 23,
   "metadata": {},
   "outputs": [
    {
     "name": "stdout",
     "output_type": "stream",
     "text": [
      "Fitting 4 folds for each of 25 candidates, totalling 100 fits\n"
     ]
    },
    {
     "name": "stderr",
     "output_type": "stream",
     "text": [
      "[Parallel(n_jobs=-1)]: Done 100 out of 100 | elapsed:    3.8s finished\n"
     ]
    },
    {
     "data": {
      "text/plain": [
       "RandomizedSearchCV(cv=4, error_score='raise',\n",
       "          estimator=KNeighborsRegressor(algorithm='auto', leaf_size=30, metric='minkowski',\n",
       "          metric_params=None, n_jobs=1, n_neighbors=5, p=2,\n",
       "          weights='uniform'),\n",
       "          fit_params=None, iid=True, n_iter=25, n_jobs=-1,\n",
       "          param_distributions={'n_neighbors': [2, 5, 8, 11, 14], 'weights': ['uniform', 'distance'], 'algorithm': ['ball_tree', 'kd_tree', 'brute'], 'leaf_size': [10, 20, 30, 40, 50, 60], 'p': [1, 2]},\n",
       "          pre_dispatch='2*n_jobs', random_state=None, refit=True,\n",
       "          return_train_score=True, scoring='neg_mean_absolute_error',\n",
       "          verbose=1)"
      ]
     },
     "execution_count": 23,
     "metadata": {},
     "output_type": "execute_result"
    }
   ],
   "source": [
    "random_cv.fit(X, y)"
   ]
  },
  {
   "cell_type": "code",
   "execution_count": 24,
   "metadata": {},
   "outputs": [
    {
     "data": {
      "text/html": [
       "<div>\n",
       "<style scoped>\n",
       "    .dataframe tbody tr th:only-of-type {\n",
       "        vertical-align: middle;\n",
       "    }\n",
       "\n",
       "    .dataframe tbody tr th {\n",
       "        vertical-align: top;\n",
       "    }\n",
       "\n",
       "    .dataframe thead th {\n",
       "        text-align: right;\n",
       "    }\n",
       "</style>\n",
       "<table border=\"1\" class=\"dataframe\">\n",
       "  <thead>\n",
       "    <tr style=\"text-align: right;\">\n",
       "      <th></th>\n",
       "      <th>mean_fit_time</th>\n",
       "      <th>std_fit_time</th>\n",
       "      <th>mean_score_time</th>\n",
       "      <th>std_score_time</th>\n",
       "      <th>param_weights</th>\n",
       "      <th>param_p</th>\n",
       "      <th>param_n_neighbors</th>\n",
       "      <th>param_leaf_size</th>\n",
       "      <th>param_algorithm</th>\n",
       "      <th>params</th>\n",
       "      <th>split0_test_score</th>\n",
       "      <th>split1_test_score</th>\n",
       "      <th>split2_test_score</th>\n",
       "      <th>split3_test_score</th>\n",
       "      <th>mean_test_score</th>\n",
       "      <th>std_test_score</th>\n",
       "      <th>rank_test_score</th>\n",
       "      <th>split0_train_score</th>\n",
       "      <th>split1_train_score</th>\n",
       "      <th>split2_train_score</th>\n",
       "      <th>split3_train_score</th>\n",
       "      <th>mean_train_score</th>\n",
       "      <th>std_train_score</th>\n",
       "    </tr>\n",
       "  </thead>\n",
       "  <tbody>\n",
       "    <tr>\n",
       "      <th>1</th>\n",
       "      <td>0.00000</td>\n",
       "      <td>0.000000</td>\n",
       "      <td>0.05225</td>\n",
       "      <td>0.022487</td>\n",
       "      <td>uniform</td>\n",
       "      <td>1</td>\n",
       "      <td>2</td>\n",
       "      <td>10</td>\n",
       "      <td>brute</td>\n",
       "      <td>{'weights': 'uniform', 'p': 1, 'n_neighbors': ...</td>\n",
       "      <td>-0.032258</td>\n",
       "      <td>-0.032258</td>\n",
       "      <td>-0.048387</td>\n",
       "      <td>-0.032258</td>\n",
       "      <td>-0.036290</td>\n",
       "      <td>0.006984</td>\n",
       "      <td>1</td>\n",
       "      <td>-0.026882</td>\n",
       "      <td>-0.010753</td>\n",
       "      <td>-0.016129</td>\n",
       "      <td>-0.021505</td>\n",
       "      <td>-0.018817</td>\n",
       "      <td>0.006011</td>\n",
       "    </tr>\n",
       "    <tr>\n",
       "      <th>15</th>\n",
       "      <td>0.00025</td>\n",
       "      <td>0.000433</td>\n",
       "      <td>0.00050</td>\n",
       "      <td>0.000500</td>\n",
       "      <td>distance</td>\n",
       "      <td>1</td>\n",
       "      <td>2</td>\n",
       "      <td>20</td>\n",
       "      <td>kd_tree</td>\n",
       "      <td>{'weights': 'distance', 'p': 1, 'n_neighbors':...</td>\n",
       "      <td>-0.032333</td>\n",
       "      <td>-0.034299</td>\n",
       "      <td>-0.046358</td>\n",
       "      <td>-0.033374</td>\n",
       "      <td>-0.036591</td>\n",
       "      <td>0.005682</td>\n",
       "      <td>2</td>\n",
       "      <td>-0.000000</td>\n",
       "      <td>-0.000000</td>\n",
       "      <td>-0.000000</td>\n",
       "      <td>-0.000000</td>\n",
       "      <td>0.000000</td>\n",
       "      <td>0.000000</td>\n",
       "    </tr>\n",
       "    <tr>\n",
       "      <th>23</th>\n",
       "      <td>0.00025</td>\n",
       "      <td>0.000433</td>\n",
       "      <td>0.00050</td>\n",
       "      <td>0.000500</td>\n",
       "      <td>uniform</td>\n",
       "      <td>2</td>\n",
       "      <td>2</td>\n",
       "      <td>40</td>\n",
       "      <td>ball_tree</td>\n",
       "      <td>{'weights': 'uniform', 'p': 2, 'n_neighbors': ...</td>\n",
       "      <td>-0.064516</td>\n",
       "      <td>-0.048387</td>\n",
       "      <td>-0.048387</td>\n",
       "      <td>-0.048387</td>\n",
       "      <td>-0.052419</td>\n",
       "      <td>0.006984</td>\n",
       "      <td>3</td>\n",
       "      <td>-0.032258</td>\n",
       "      <td>-0.032258</td>\n",
       "      <td>-0.021505</td>\n",
       "      <td>-0.026882</td>\n",
       "      <td>-0.028226</td>\n",
       "      <td>0.004458</td>\n",
       "    </tr>\n",
       "    <tr>\n",
       "      <th>18</th>\n",
       "      <td>0.00025</td>\n",
       "      <td>0.000433</td>\n",
       "      <td>0.00025</td>\n",
       "      <td>0.000433</td>\n",
       "      <td>distance</td>\n",
       "      <td>2</td>\n",
       "      <td>2</td>\n",
       "      <td>40</td>\n",
       "      <td>kd_tree</td>\n",
       "      <td>{'weights': 'distance', 'p': 2, 'n_neighbors':...</td>\n",
       "      <td>-0.065504</td>\n",
       "      <td>-0.051098</td>\n",
       "      <td>-0.047090</td>\n",
       "      <td>-0.048416</td>\n",
       "      <td>-0.053027</td>\n",
       "      <td>0.007347</td>\n",
       "      <td>4</td>\n",
       "      <td>-0.000000</td>\n",
       "      <td>-0.000000</td>\n",
       "      <td>-0.000000</td>\n",
       "      <td>-0.000000</td>\n",
       "      <td>0.000000</td>\n",
       "      <td>0.000000</td>\n",
       "    </tr>\n",
       "    <tr>\n",
       "      <th>6</th>\n",
       "      <td>0.00025</td>\n",
       "      <td>0.000433</td>\n",
       "      <td>0.00075</td>\n",
       "      <td>0.000433</td>\n",
       "      <td>distance</td>\n",
       "      <td>2</td>\n",
       "      <td>2</td>\n",
       "      <td>60</td>\n",
       "      <td>ball_tree</td>\n",
       "      <td>{'weights': 'distance', 'p': 2, 'n_neighbors':...</td>\n",
       "      <td>-0.065504</td>\n",
       "      <td>-0.051098</td>\n",
       "      <td>-0.047090</td>\n",
       "      <td>-0.048416</td>\n",
       "      <td>-0.053027</td>\n",
       "      <td>0.007347</td>\n",
       "      <td>4</td>\n",
       "      <td>-0.000000</td>\n",
       "      <td>-0.000000</td>\n",
       "      <td>-0.000000</td>\n",
       "      <td>-0.000000</td>\n",
       "      <td>0.000000</td>\n",
       "      <td>0.000000</td>\n",
       "    </tr>\n",
       "  </tbody>\n",
       "</table>\n",
       "</div>"
      ],
      "text/plain": [
       "    mean_fit_time  std_fit_time  mean_score_time  std_score_time  \\\n",
       "1         0.00000      0.000000          0.05225        0.022487   \n",
       "15        0.00025      0.000433          0.00050        0.000500   \n",
       "23        0.00025      0.000433          0.00050        0.000500   \n",
       "18        0.00025      0.000433          0.00025        0.000433   \n",
       "6         0.00025      0.000433          0.00075        0.000433   \n",
       "\n",
       "   param_weights param_p param_n_neighbors param_leaf_size param_algorithm  \\\n",
       "1        uniform       1                 2              10           brute   \n",
       "15      distance       1                 2              20         kd_tree   \n",
       "23       uniform       2                 2              40       ball_tree   \n",
       "18      distance       2                 2              40         kd_tree   \n",
       "6       distance       2                 2              60       ball_tree   \n",
       "\n",
       "                                               params  split0_test_score  \\\n",
       "1   {'weights': 'uniform', 'p': 1, 'n_neighbors': ...          -0.032258   \n",
       "15  {'weights': 'distance', 'p': 1, 'n_neighbors':...          -0.032333   \n",
       "23  {'weights': 'uniform', 'p': 2, 'n_neighbors': ...          -0.064516   \n",
       "18  {'weights': 'distance', 'p': 2, 'n_neighbors':...          -0.065504   \n",
       "6   {'weights': 'distance', 'p': 2, 'n_neighbors':...          -0.065504   \n",
       "\n",
       "    split1_test_score  split2_test_score  split3_test_score  mean_test_score  \\\n",
       "1           -0.032258          -0.048387          -0.032258        -0.036290   \n",
       "15          -0.034299          -0.046358          -0.033374        -0.036591   \n",
       "23          -0.048387          -0.048387          -0.048387        -0.052419   \n",
       "18          -0.051098          -0.047090          -0.048416        -0.053027   \n",
       "6           -0.051098          -0.047090          -0.048416        -0.053027   \n",
       "\n",
       "    std_test_score  rank_test_score  split0_train_score  split1_train_score  \\\n",
       "1         0.006984                1           -0.026882           -0.010753   \n",
       "15        0.005682                2           -0.000000           -0.000000   \n",
       "23        0.006984                3           -0.032258           -0.032258   \n",
       "18        0.007347                4           -0.000000           -0.000000   \n",
       "6         0.007347                4           -0.000000           -0.000000   \n",
       "\n",
       "    split2_train_score  split3_train_score  mean_train_score  std_train_score  \n",
       "1            -0.016129           -0.021505         -0.018817         0.006011  \n",
       "15           -0.000000           -0.000000          0.000000         0.000000  \n",
       "23           -0.021505           -0.026882         -0.028226         0.004458  \n",
       "18           -0.000000           -0.000000          0.000000         0.000000  \n",
       "6            -0.000000           -0.000000          0.000000         0.000000  "
      ]
     },
     "execution_count": 24,
     "metadata": {},
     "output_type": "execute_result"
    }
   ],
   "source": [
    "random_results = pd.DataFrame(random_cv.cv_results_).sort_values('mean_test_score', ascending = False)\n",
    "\n",
    "random_results.head(5)"
   ]
  },
  {
   "cell_type": "code",
   "execution_count": 25,
   "metadata": {},
   "outputs": [
    {
     "data": {
      "text/plain": [
       "KNeighborsRegressor(algorithm='brute', leaf_size=10, metric='minkowski',\n",
       "          metric_params=None, n_jobs=1, n_neighbors=2, p=1,\n",
       "          weights='uniform')"
      ]
     },
     "execution_count": 25,
     "metadata": {},
     "output_type": "execute_result"
    }
   ],
   "source": [
    "random_cv.best_estimator_"
   ]
  },
  {
   "cell_type": "code",
   "execution_count": 26,
   "metadata": {},
   "outputs": [],
   "source": [
    "# Create a range of trees to evaluate\n",
    "trees_grid = {'leaf_size': [3, 5, 7, 9, 10, 11, 13, 15, 17]}\n",
    "\n",
    "model = KNeighborsRegressor(algorithm='brute', leaf_size=10, metric='minkowski',\n",
    "          metric_params=None, n_jobs=1, n_neighbors=2, p=1,\n",
    "          weights='uniform')\n",
    "\n",
    "# Grid Search Object using the trees range and the random forest model\n",
    "grid_search = GridSearchCV(estimator = model, param_grid=trees_grid, cv = 4, \n",
    "                           scoring = 'neg_mean_absolute_error', verbose = 1,\n",
    "                           n_jobs = -1, return_train_score = True)"
   ]
  },
  {
   "cell_type": "code",
   "execution_count": 27,
   "metadata": {},
   "outputs": [
    {
     "name": "stdout",
     "output_type": "stream",
     "text": [
      "Fitting 4 folds for each of 9 candidates, totalling 36 fits\n"
     ]
    },
    {
     "name": "stderr",
     "output_type": "stream",
     "text": [
      "[Parallel(n_jobs=-1)]: Done  29 out of  36 | elapsed:    2.3s remaining:    0.5s\n",
      "[Parallel(n_jobs=-1)]: Done  36 out of  36 | elapsed:    2.3s finished\n"
     ]
    },
    {
     "data": {
      "text/plain": [
       "GridSearchCV(cv=4, error_score='raise',\n",
       "       estimator=KNeighborsRegressor(algorithm='brute', leaf_size=10, metric='minkowski',\n",
       "          metric_params=None, n_jobs=1, n_neighbors=2, p=1,\n",
       "          weights='uniform'),\n",
       "       fit_params=None, iid=True, n_jobs=-1,\n",
       "       param_grid={'leaf_size': [3, 5, 7, 9, 10, 11, 13, 15, 17]},\n",
       "       pre_dispatch='2*n_jobs', refit=True, return_train_score=True,\n",
       "       scoring='neg_mean_absolute_error', verbose=1)"
      ]
     },
     "execution_count": 27,
     "metadata": {},
     "output_type": "execute_result"
    }
   ],
   "source": [
    "\n",
    "# Fit the grid search\n",
    "grid_search.fit(X, y)"
   ]
  },
  {
   "cell_type": "code",
   "execution_count": 28,
   "metadata": {},
   "outputs": [
    {
     "data": {
      "text/html": [
       "<div>\n",
       "<style scoped>\n",
       "    .dataframe tbody tr th:only-of-type {\n",
       "        vertical-align: middle;\n",
       "    }\n",
       "\n",
       "    .dataframe tbody tr th {\n",
       "        vertical-align: top;\n",
       "    }\n",
       "\n",
       "    .dataframe thead th {\n",
       "        text-align: right;\n",
       "    }\n",
       "</style>\n",
       "<table border=\"1\" class=\"dataframe\">\n",
       "  <thead>\n",
       "    <tr style=\"text-align: right;\">\n",
       "      <th></th>\n",
       "      <th>mean_fit_time</th>\n",
       "      <th>std_fit_time</th>\n",
       "      <th>mean_score_time</th>\n",
       "      <th>std_score_time</th>\n",
       "      <th>param_leaf_size</th>\n",
       "      <th>params</th>\n",
       "      <th>split0_test_score</th>\n",
       "      <th>split1_test_score</th>\n",
       "      <th>split2_test_score</th>\n",
       "      <th>split3_test_score</th>\n",
       "      <th>mean_test_score</th>\n",
       "      <th>std_test_score</th>\n",
       "      <th>rank_test_score</th>\n",
       "      <th>split0_train_score</th>\n",
       "      <th>split1_train_score</th>\n",
       "      <th>split2_train_score</th>\n",
       "      <th>split3_train_score</th>\n",
       "      <th>mean_train_score</th>\n",
       "      <th>std_train_score</th>\n",
       "    </tr>\n",
       "  </thead>\n",
       "  <tbody>\n",
       "    <tr>\n",
       "      <th>0</th>\n",
       "      <td>0.00050</td>\n",
       "      <td>0.000500</td>\n",
       "      <td>0.00025</td>\n",
       "      <td>0.000433</td>\n",
       "      <td>3</td>\n",
       "      <td>{'leaf_size': 3}</td>\n",
       "      <td>-0.032258</td>\n",
       "      <td>-0.032258</td>\n",
       "      <td>-0.048387</td>\n",
       "      <td>-0.032258</td>\n",
       "      <td>-0.03629</td>\n",
       "      <td>0.006984</td>\n",
       "      <td>1</td>\n",
       "      <td>-0.026882</td>\n",
       "      <td>-0.010753</td>\n",
       "      <td>-0.016129</td>\n",
       "      <td>-0.021505</td>\n",
       "      <td>-0.018817</td>\n",
       "      <td>0.006011</td>\n",
       "    </tr>\n",
       "    <tr>\n",
       "      <th>1</th>\n",
       "      <td>0.00025</td>\n",
       "      <td>0.000433</td>\n",
       "      <td>0.00025</td>\n",
       "      <td>0.000433</td>\n",
       "      <td>5</td>\n",
       "      <td>{'leaf_size': 5}</td>\n",
       "      <td>-0.032258</td>\n",
       "      <td>-0.032258</td>\n",
       "      <td>-0.048387</td>\n",
       "      <td>-0.032258</td>\n",
       "      <td>-0.03629</td>\n",
       "      <td>0.006984</td>\n",
       "      <td>1</td>\n",
       "      <td>-0.026882</td>\n",
       "      <td>-0.010753</td>\n",
       "      <td>-0.016129</td>\n",
       "      <td>-0.021505</td>\n",
       "      <td>-0.018817</td>\n",
       "      <td>0.006011</td>\n",
       "    </tr>\n",
       "    <tr>\n",
       "      <th>2</th>\n",
       "      <td>0.00025</td>\n",
       "      <td>0.000433</td>\n",
       "      <td>0.00050</td>\n",
       "      <td>0.000500</td>\n",
       "      <td>7</td>\n",
       "      <td>{'leaf_size': 7}</td>\n",
       "      <td>-0.032258</td>\n",
       "      <td>-0.032258</td>\n",
       "      <td>-0.048387</td>\n",
       "      <td>-0.032258</td>\n",
       "      <td>-0.03629</td>\n",
       "      <td>0.006984</td>\n",
       "      <td>1</td>\n",
       "      <td>-0.026882</td>\n",
       "      <td>-0.010753</td>\n",
       "      <td>-0.016129</td>\n",
       "      <td>-0.021505</td>\n",
       "      <td>-0.018817</td>\n",
       "      <td>0.006011</td>\n",
       "    </tr>\n",
       "    <tr>\n",
       "      <th>3</th>\n",
       "      <td>0.00000</td>\n",
       "      <td>0.000000</td>\n",
       "      <td>0.00025</td>\n",
       "      <td>0.000433</td>\n",
       "      <td>9</td>\n",
       "      <td>{'leaf_size': 9}</td>\n",
       "      <td>-0.032258</td>\n",
       "      <td>-0.032258</td>\n",
       "      <td>-0.048387</td>\n",
       "      <td>-0.032258</td>\n",
       "      <td>-0.03629</td>\n",
       "      <td>0.006984</td>\n",
       "      <td>1</td>\n",
       "      <td>-0.026882</td>\n",
       "      <td>-0.010753</td>\n",
       "      <td>-0.016129</td>\n",
       "      <td>-0.021505</td>\n",
       "      <td>-0.018817</td>\n",
       "      <td>0.006011</td>\n",
       "    </tr>\n",
       "    <tr>\n",
       "      <th>4</th>\n",
       "      <td>0.00000</td>\n",
       "      <td>0.000000</td>\n",
       "      <td>0.00025</td>\n",
       "      <td>0.000433</td>\n",
       "      <td>10</td>\n",
       "      <td>{'leaf_size': 10}</td>\n",
       "      <td>-0.032258</td>\n",
       "      <td>-0.032258</td>\n",
       "      <td>-0.048387</td>\n",
       "      <td>-0.032258</td>\n",
       "      <td>-0.03629</td>\n",
       "      <td>0.006984</td>\n",
       "      <td>1</td>\n",
       "      <td>-0.026882</td>\n",
       "      <td>-0.010753</td>\n",
       "      <td>-0.016129</td>\n",
       "      <td>-0.021505</td>\n",
       "      <td>-0.018817</td>\n",
       "      <td>0.006011</td>\n",
       "    </tr>\n",
       "  </tbody>\n",
       "</table>\n",
       "</div>"
      ],
      "text/plain": [
       "   mean_fit_time  std_fit_time  mean_score_time  std_score_time  \\\n",
       "0        0.00050      0.000500          0.00025        0.000433   \n",
       "1        0.00025      0.000433          0.00025        0.000433   \n",
       "2        0.00025      0.000433          0.00050        0.000500   \n",
       "3        0.00000      0.000000          0.00025        0.000433   \n",
       "4        0.00000      0.000000          0.00025        0.000433   \n",
       "\n",
       "  param_leaf_size             params  split0_test_score  split1_test_score  \\\n",
       "0               3   {'leaf_size': 3}          -0.032258          -0.032258   \n",
       "1               5   {'leaf_size': 5}          -0.032258          -0.032258   \n",
       "2               7   {'leaf_size': 7}          -0.032258          -0.032258   \n",
       "3               9   {'leaf_size': 9}          -0.032258          -0.032258   \n",
       "4              10  {'leaf_size': 10}          -0.032258          -0.032258   \n",
       "\n",
       "   split2_test_score  split3_test_score  mean_test_score  std_test_score  \\\n",
       "0          -0.048387          -0.032258         -0.03629        0.006984   \n",
       "1          -0.048387          -0.032258         -0.03629        0.006984   \n",
       "2          -0.048387          -0.032258         -0.03629        0.006984   \n",
       "3          -0.048387          -0.032258         -0.03629        0.006984   \n",
       "4          -0.048387          -0.032258         -0.03629        0.006984   \n",
       "\n",
       "   rank_test_score  split0_train_score  split1_train_score  \\\n",
       "0                1           -0.026882           -0.010753   \n",
       "1                1           -0.026882           -0.010753   \n",
       "2                1           -0.026882           -0.010753   \n",
       "3                1           -0.026882           -0.010753   \n",
       "4                1           -0.026882           -0.010753   \n",
       "\n",
       "   split2_train_score  split3_train_score  mean_train_score  std_train_score  \n",
       "0           -0.016129           -0.021505         -0.018817         0.006011  \n",
       "1           -0.016129           -0.021505         -0.018817         0.006011  \n",
       "2           -0.016129           -0.021505         -0.018817         0.006011  \n",
       "3           -0.016129           -0.021505         -0.018817         0.006011  \n",
       "4           -0.016129           -0.021505         -0.018817         0.006011  "
      ]
     },
     "execution_count": 28,
     "metadata": {},
     "output_type": "execute_result"
    }
   ],
   "source": [
    "# Get the results into a dataframe\n",
    "results = pd.DataFrame(grid_search.cv_results_)\n",
    "results.head(5)"
   ]
  },
  {
   "cell_type": "code",
   "execution_count": 29,
   "metadata": {},
   "outputs": [
    {
     "data": {
      "image/png": "[encoded data removed]",
      "text/plain": [
       "<Figure size 640x640 with 1 Axes>"
      ]
     },
     "metadata": {},
     "output_type": "display_data"
    }
   ],
   "source": [
    "# Plot the training and testing error vs number of trees\n",
    "figsize(8, 8)\n",
    "plt.style.use('fivethirtyeight')\n",
    "plt.plot(results['param_leaf_size'], -1 * results['mean_test_score'], label = 'Testing Error')\n",
    "plt.plot(results['param_leaf_size'], -1 * results['mean_train_score'], label = 'Training Error')\n",
    "plt.xlabel('Leaf Size'); plt.ylabel('Mean Abosolute Error'); plt.legend();\n",
    "plt.title('Performance vs Number of Trees');"
   ]
  },
  {
   "cell_type": "code",
   "execution_count": 30,
   "metadata": {},
   "outputs": [
    {
     "data": {
      "text/plain": [
       "KNeighborsRegressor(algorithm='brute', leaf_size=3, metric='minkowski',\n",
       "          metric_params=None, n_jobs=1, n_neighbors=2, p=1,\n",
       "          weights='uniform')"
      ]
     },
     "execution_count": 30,
     "metadata": {},
     "output_type": "execute_result"
    }
   ],
   "source": [
    "# Default model\n",
    "default_model = KNeighborsRegressor(5)\n",
    "\n",
    "# Select the best model\n",
    "final_model = grid_search.best_estimator_\n",
    "\n",
    "final_model"
   ]
  },
  {
   "cell_type": "code",
   "execution_count": 31,
   "metadata": {},
   "outputs": [
    {
     "name": "stdout",
     "output_type": "stream",
     "text": [
      "The slowest run took 11.94 times longer than the fastest. This could mean that an intermediate result is being cached.\n",
      "1.16 ms ± 1.17 ms per loop (mean ± std. dev. of 5 runs, 1 loop each)\n"
     ]
    }
   ],
   "source": [
    "%%timeit -n 1 -r 5\n",
    "default_model.fit(X, y)"
   ]
  },
  {
   "cell_type": "code",
   "execution_count": 32,
   "metadata": {},
   "outputs": [
    {
     "name": "stdout",
     "output_type": "stream",
     "text": [
      "317 µs ± 118 µs per loop (mean ± std. dev. of 5 runs, 1 loop each)\n"
     ]
    }
   ],
   "source": [
    "%%timeit -n 1 -r 5\n",
    "final_model.fit(X, y)"
   ]
  },
  {
   "cell_type": "code",
   "execution_count": 33,
   "metadata": {},
   "outputs": [
    {
     "name": "stdout",
     "output_type": "stream",
     "text": [
      "Default model performance on the test set: MAE = 0.0667.\n",
      "Final model performance on the test set:   MAE = 0.0556.\n"
     ]
    }
   ],
   "source": [
    "default_pred = default_model.predict(X_test)\n",
    "final_pred = final_model.predict(X_test)\n",
    "\n",
    "print('Default model performance on the test set: MAE = %0.4f.' % mae(y_test, default_pred))\n",
    "print('Final model performance on the test set:   MAE = %0.4f.' % mae(y_test, final_pred))"
   ]
  },
  {
   "cell_type": "code",
   "execution_count": 34,
   "metadata": {},
   "outputs": [
    {
     "data": {
      "image/png": "[encoded data removed]",
      "text/plain": [
       "<Figure size 640x640 with 1 Axes>"
      ]
     },
     "metadata": {},
     "output_type": "display_data"
    }
   ],
   "source": [
    "figsize(8, 8)\n",
    "\n",
    "# Density plot of the final predictions and the test values\n",
    "sns.kdeplot(final_pred, label = 'Predictions')\n",
    "sns.kdeplot(y_test, label = 'Values')\n",
    "\n",
    "# Label the plot\n",
    "plt.xlabel('Class'); plt.ylabel('Density');\n",
    "plt.title('Test Values and Predictions');"
   ]
  },
  {
   "cell_type": "code",
   "execution_count": 35,
   "metadata": {
    "scrolled": false
   },
   "outputs": [
    {
     "data": {
      "image/png": "[encoded data removed]",
      "text/plain": [
       "<Figure size 640x640 with 1 Axes>"
      ]
     },
     "metadata": {},
     "output_type": "display_data"
    }
   ],
   "source": [
    "figsize = (6, 6)\n",
    "\n",
    "# Calculate the residuals \n",
    "residuals = final_pred - y_test\n",
    "\n",
    "# Plot the residuals in a histogram\n",
    "plt.hist(residuals, color = 'red', bins = 20,\n",
    "         edgecolor = 'black')\n",
    "plt.xlabel('Error'); plt.ylabel('Count')\n",
    "plt.title('Distribution of Residuals');"
   ]
  },
  {
   "cell_type": "code",
   "execution_count": null,
   "metadata": {},
   "outputs": [],
   "source": []
  },
  {
   "cell_type": "code",
   "execution_count": null,
   "metadata": {},
   "outputs": [],
   "source": []
  }
 ],
 "metadata": {
  "kernelspec": {
   "display_name": "Python 3",
   "language": "python",
   "name": "python3"
  },
  "language_info": {
   "codemirror_mode": {
    "name": "ipython",
    "version": 3
   },
   "file_extension": ".py",
   "mimetype": "text/x-python",
   "name": "python",
   "nbconvert_exporter": "python",
   "pygments_lexer": "ipython3",
   "version": "3.6.5"
  }
 },
 "nbformat": 4,
 "nbformat_minor": 2
}
